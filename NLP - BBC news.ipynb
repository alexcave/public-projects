{
 "cells": [
  {
   "cell_type": "markdown",
   "metadata": {},
   "source": [
    "## Natural Language Processing using BBC news articles\n",
    "\n",
    "By Alexander Cave"
   ]
  },
  {
   "cell_type": "code",
   "execution_count": 2,
   "metadata": {
    "collapsed": true
   },
   "outputs": [],
   "source": [
    "import pandas as pd\n",
    "import numpy as np\n",
    "import os\n",
    "\n",
    "import matplotlib.pyplot as plt\n",
    "import seaborn as sns\n",
    "plt.style.use('ggplot')\n",
    "%matplotlib inline\n",
    "\n",
    "from sklearn.model_selection import train_test_split, GridSearchCV, cross_val_score\n",
    "from sklearn.feature_extraction.text import CountVectorizer, TfidfVectorizer\n",
    "from sklearn.naive_bayes import MultinomialNB\n",
    "from sklearn.linear_model import LogisticRegression\n",
    "from sklearn.ensemble import RandomForestClassifier\n",
    "from sklearn import metrics\n",
    "import itertools\n"
   ]
  },
  {
   "cell_type": "markdown",
   "metadata": {},
   "source": [
    "The aim of this notebook is to provide an example as to how Natural Language Processing (NLP) can be achieved using python, and the classification of documents using machine learning. For this project, I have chosen to use the BBC News Dataset, which can be found at http://mlg.ucd.ie/datasets/bbc.html. This dataset has been utilised in the publication D. Greene and P. Cunningham. \"Practical Solutions to the Problem of Diagonal Dominance in Kernel Document Clustering\", Proc. ICML 2006. \n",
    "\n",
    "The dataset is comprised of  2225 documents from the BBC news website corresponding to stories in five topical areas from 2004-2005, and are labeled with 5 main classes, business, entertainment, politics, sport, tech. The dataset is available in both a pre-processed format and the raw text files of the articles.\n",
    "\n",
    "I have chosen to work with the original raw text files, to demonstrate how to import the text into an appropriate format and apply the class labels. They comprise of individual text files, separated by folders for the relevant class label.\n",
    "\n",
    "Below I create a function that provides the opportunity to import all the articles into a dataframe. Sometimes it can be challenging as you need to work with special characters, which can be encoded using unicode. To display these charaters correctly when viewing the document, and to prevent errors when processing the articles, it is important that the correct encoding is used."
   ]
  },
  {
   "cell_type": "code",
   "execution_count": 3,
   "metadata": {
    "collapsed": true
   },
   "outputs": [],
   "source": [
    "path = '/users/cave/Desktop/dsi/resource-datasets/bbc/'"
   ]
  },
  {
   "cell_type": "code",
   "execution_count": 4,
   "metadata": {
    "collapsed": true
   },
   "outputs": [],
   "source": [
    "#Function to load artcles. based on the directory structure of \n",
    "#the downloaded dataset. The first category is commented.\n",
    "def loadarticles(path):\n",
    "    #create empty lists for each class label\n",
    "    bustext = []\n",
    "    enttext = []\n",
    "    poltext = []\n",
    "    spotext = []\n",
    "    tectext = []\n",
    "    \n",
    "    #load business articles\n",
    "    bpath = path + 'business/'\n",
    "\n",
    "    #obtain a list of all files in the selected folder\n",
    "    files = os.listdir(bpath)\n",
    "\n",
    "    #loop though the filenames retrieved in the previous step,\n",
    "    #open them, decode the files into ascii format\n",
    "    for f in files:\n",
    "        with open ((bpath + f), \"r\") as myfile:\n",
    "            #split the file by the new line characters to remove them\n",
    "            #and join them back together to make a single article\n",
    "            content = myfile.read().decode('ascii', 'ignore').split()\n",
    "            content =  ' '.join(content)\n",
    "            #add the article to the list\n",
    "            bustext.append(content)\n",
    "    #The Article is classified by directory. We need to apply this to\n",
    "    #the article as we load them. convert the list to a dataframe\n",
    "    # and apply the category and move on to the next article in the loop.\n",
    "    columns=['article']\n",
    "    bustext = pd.DataFrame(bustext, columns=columns)\n",
    "    bustext['category'] = 'business'                   \n",
    "\n",
    "    #load entertainment articles\n",
    "    epath = path + 'entertainment/'\n",
    "    files = os.listdir(epath)\n",
    "    for f in files:\n",
    "        with open ((epath + f), \"r\") as myfile:\n",
    "            content = myfile.read().decode('ascii', 'ignore').split()\n",
    "            content =  ' '.join(content)\n",
    "            enttext.append(content)\n",
    "    columns=['article']\n",
    "    enttext = pd.DataFrame(enttext, columns=columns)\n",
    "    enttext['category'] = 'entertainment'                   \n",
    "\n",
    "    #load politics articles\n",
    "    ppath = path + 'politics/'\n",
    "    files = os.listdir(ppath)\n",
    "    for f in files:\n",
    "        with open ((ppath + f), \"r\") as myfile:\n",
    "            content = myfile.read().decode('ascii', 'ignore').split()\n",
    "            content =  ' '.join(content)\n",
    "            poltext.append(content)\n",
    "    columns=['article']\n",
    "    poltext = pd.DataFrame(poltext, columns=columns)\n",
    "    poltext['category'] = 'politics' \n",
    "\n",
    "    #load sport articles\n",
    "    spath = path + 'sport/'\n",
    "    files = os.listdir(spath)\n",
    "    for f in files:\n",
    "        with open ((spath + f), \"r\") as myfile:\n",
    "            content = myfile.read().decode('ascii', 'ignore').split()\n",
    "            content =  ' '.join(content)\n",
    "            spotext.append(content)\n",
    "\n",
    "    columns=['article']\n",
    "    spotext = pd.DataFrame(spotext, columns=columns)\n",
    "    spotext['category'] = 'sport'    \n",
    "\n",
    "    #load tech articles\n",
    "    tpath = path + 'tech/'\n",
    "    files = os.listdir(tpath)\n",
    "    for f in files:\n",
    "        with open ((tpath + f), \"r\") as myfile:\n",
    "            content = myfile.read().decode('ascii', 'ignore').split()\n",
    "            content =  ' '.join(content)\n",
    "            tectext.append(content)\n",
    "    columns=['article']\n",
    "    tectext = pd.DataFrame(tectext, columns=columns)\n",
    "    tectext['category'] = 'tech'    \n",
    "\n",
    "    #Create a new dataframe, append the different category dataframes\n",
    "    #to the main dataframe, reset the index and output.\n",
    "    df = pd.DataFrame()\n",
    "    df = df.append([bustext, enttext, poltext, spotext, tectext] )\n",
    "    df = df.reset_index(drop=True)\n",
    "    return df"
   ]
  },
  {
   "cell_type": "markdown",
   "metadata": {},
   "source": [
    "The function returns a dataframe with the loaded articles. First lets check that we have the correct number of articles."
   ]
  },
  {
   "cell_type": "code",
   "execution_count": 5,
   "metadata": {
    "collapsed": true
   },
   "outputs": [],
   "source": [
    "articles = loadarticles(path)"
   ]
  },
  {
   "cell_type": "code",
   "execution_count": 6,
   "metadata": {
    "scrolled": true
   },
   "outputs": [
    {
     "data": {
      "text/plain": [
       "2225"
      ]
     },
     "execution_count": 6,
     "metadata": {},
     "output_type": "execute_result"
    }
   ],
   "source": [
    "len(articles)"
   ]
  },
  {
   "cell_type": "markdown",
   "metadata": {},
   "source": [
    "Success! now lets see what the dataframe looks like, and if the categories are correctly labelled. we can check the beginning and end of the data, and check for null values."
   ]
  },
  {
   "cell_type": "code",
   "execution_count": 7,
   "metadata": {},
   "outputs": [
    {
     "data": {
      "text/html": [
       "<div>\n",
       "<style>\n",
       "    .dataframe thead tr:only-child th {\n",
       "        text-align: right;\n",
       "    }\n",
       "\n",
       "    .dataframe thead th {\n",
       "        text-align: left;\n",
       "    }\n",
       "\n",
       "    .dataframe tbody tr th {\n",
       "        vertical-align: top;\n",
       "    }\n",
       "</style>\n",
       "<table border=\"1\" class=\"dataframe\">\n",
       "  <thead>\n",
       "    <tr style=\"text-align: right;\">\n",
       "      <th></th>\n",
       "      <th>article</th>\n",
       "      <th>category</th>\n",
       "    </tr>\n",
       "  </thead>\n",
       "  <tbody>\n",
       "    <tr>\n",
       "      <th>0</th>\n",
       "      <td>Ad sales boost Time Warner profit Quarterly pr...</td>\n",
       "      <td>business</td>\n",
       "    </tr>\n",
       "    <tr>\n",
       "      <th>1</th>\n",
       "      <td>Dollar gains on Greenspan speech The dollar ha...</td>\n",
       "      <td>business</td>\n",
       "    </tr>\n",
       "    <tr>\n",
       "      <th>2</th>\n",
       "      <td>Yukos unit buyer faces loan claim The owners o...</td>\n",
       "      <td>business</td>\n",
       "    </tr>\n",
       "    <tr>\n",
       "      <th>3</th>\n",
       "      <td>High fuel prices hit BA's profits British Airw...</td>\n",
       "      <td>business</td>\n",
       "    </tr>\n",
       "    <tr>\n",
       "      <th>4</th>\n",
       "      <td>Pernod takeover talk lifts Domecq Shares in UK...</td>\n",
       "      <td>business</td>\n",
       "    </tr>\n",
       "    <tr>\n",
       "      <th>5</th>\n",
       "      <td>Japan narrowly escapes recession Japan's econo...</td>\n",
       "      <td>business</td>\n",
       "    </tr>\n",
       "    <tr>\n",
       "      <th>6</th>\n",
       "      <td>Jobs growth still slow in the US The US create...</td>\n",
       "      <td>business</td>\n",
       "    </tr>\n",
       "    <tr>\n",
       "      <th>7</th>\n",
       "      <td>India calls for fair trade rules India, which ...</td>\n",
       "      <td>business</td>\n",
       "    </tr>\n",
       "    <tr>\n",
       "      <th>8</th>\n",
       "      <td>Ethiopia's crop production up 24% Ethiopia pro...</td>\n",
       "      <td>business</td>\n",
       "    </tr>\n",
       "    <tr>\n",
       "      <th>9</th>\n",
       "      <td>Court rejects $280bn tobacco case A US governm...</td>\n",
       "      <td>business</td>\n",
       "    </tr>\n",
       "  </tbody>\n",
       "</table>\n",
       "</div>"
      ],
      "text/plain": [
       "                                             article  category\n",
       "0  Ad sales boost Time Warner profit Quarterly pr...  business\n",
       "1  Dollar gains on Greenspan speech The dollar ha...  business\n",
       "2  Yukos unit buyer faces loan claim The owners o...  business\n",
       "3  High fuel prices hit BA's profits British Airw...  business\n",
       "4  Pernod takeover talk lifts Domecq Shares in UK...  business\n",
       "5  Japan narrowly escapes recession Japan's econo...  business\n",
       "6  Jobs growth still slow in the US The US create...  business\n",
       "7  India calls for fair trade rules India, which ...  business\n",
       "8  Ethiopia's crop production up 24% Ethiopia pro...  business\n",
       "9  Court rejects $280bn tobacco case A US governm...  business"
      ]
     },
     "execution_count": 7,
     "metadata": {},
     "output_type": "execute_result"
    }
   ],
   "source": [
    "articles.head(10)"
   ]
  },
  {
   "cell_type": "code",
   "execution_count": 8,
   "metadata": {},
   "outputs": [
    {
     "data": {
      "text/html": [
       "<div>\n",
       "<style>\n",
       "    .dataframe thead tr:only-child th {\n",
       "        text-align: right;\n",
       "    }\n",
       "\n",
       "    .dataframe thead th {\n",
       "        text-align: left;\n",
       "    }\n",
       "\n",
       "    .dataframe tbody tr th {\n",
       "        vertical-align: top;\n",
       "    }\n",
       "</style>\n",
       "<table border=\"1\" class=\"dataframe\">\n",
       "  <thead>\n",
       "    <tr style=\"text-align: right;\">\n",
       "      <th></th>\n",
       "      <th>article</th>\n",
       "      <th>category</th>\n",
       "    </tr>\n",
       "  </thead>\n",
       "  <tbody>\n",
       "    <tr>\n",
       "      <th>2215</th>\n",
       "      <td>Broadband fuels online expression Fast web acc...</td>\n",
       "      <td>tech</td>\n",
       "    </tr>\n",
       "    <tr>\n",
       "      <th>2216</th>\n",
       "      <td>Savvy searchers fail to spot ads Internet sear...</td>\n",
       "      <td>tech</td>\n",
       "    </tr>\n",
       "    <tr>\n",
       "      <th>2217</th>\n",
       "      <td>TV's future down the phone line Internet TV ha...</td>\n",
       "      <td>tech</td>\n",
       "    </tr>\n",
       "    <tr>\n",
       "      <th>2218</th>\n",
       "      <td>Cebit fever takes over Hanover Thousands of pr...</td>\n",
       "      <td>tech</td>\n",
       "    </tr>\n",
       "    <tr>\n",
       "      <th>2219</th>\n",
       "      <td>New consoles promise big problems Making games...</td>\n",
       "      <td>tech</td>\n",
       "    </tr>\n",
       "    <tr>\n",
       "      <th>2220</th>\n",
       "      <td>BT program to beat dialler scams BT is introdu...</td>\n",
       "      <td>tech</td>\n",
       "    </tr>\n",
       "    <tr>\n",
       "      <th>2221</th>\n",
       "      <td>Spam e-mails tempt net shoppers Computer users...</td>\n",
       "      <td>tech</td>\n",
       "    </tr>\n",
       "    <tr>\n",
       "      <th>2222</th>\n",
       "      <td>Be careful how you code A new European directi...</td>\n",
       "      <td>tech</td>\n",
       "    </tr>\n",
       "    <tr>\n",
       "      <th>2223</th>\n",
       "      <td>US cyber security chief resigns The man making...</td>\n",
       "      <td>tech</td>\n",
       "    </tr>\n",
       "    <tr>\n",
       "      <th>2224</th>\n",
       "      <td>Losing yourself in online gaming Online role p...</td>\n",
       "      <td>tech</td>\n",
       "    </tr>\n",
       "  </tbody>\n",
       "</table>\n",
       "</div>"
      ],
      "text/plain": [
       "                                                article category\n",
       "2215  Broadband fuels online expression Fast web acc...     tech\n",
       "2216  Savvy searchers fail to spot ads Internet sear...     tech\n",
       "2217  TV's future down the phone line Internet TV ha...     tech\n",
       "2218  Cebit fever takes over Hanover Thousands of pr...     tech\n",
       "2219  New consoles promise big problems Making games...     tech\n",
       "2220  BT program to beat dialler scams BT is introdu...     tech\n",
       "2221  Spam e-mails tempt net shoppers Computer users...     tech\n",
       "2222  Be careful how you code A new European directi...     tech\n",
       "2223  US cyber security chief resigns The man making...     tech\n",
       "2224  Losing yourself in online gaming Online role p...     tech"
      ]
     },
     "execution_count": 8,
     "metadata": {},
     "output_type": "execute_result"
    }
   ],
   "source": [
    "articles.tail(10)"
   ]
  },
  {
   "cell_type": "code",
   "execution_count": 9,
   "metadata": {},
   "outputs": [
    {
     "name": "stdout",
     "output_type": "stream",
     "text": [
      "sport\n",
      "Barcelona title hopes hit by loss Barcelona's pursuit of the Spanish title took a blow on Sunday as they fell to a 2-0 defeat at home to Atletico Madrid. Fernando Torres gave Athletico an ideal start with a goal in the first minute. Ronaldino wasted a second-half chance to equalise for Barca when he put a penalty wide, but Torres made no such mistake with a last-minute spot-kick. The defeat, coupled with Real Madrid's 4-0 win over Espanyol on Saturday, reduces Barca's lead to four points. Former Everton midfielder Thomas Gravesen scored his first goal for Real in the comfortable victory at the Bernabeu. Zinedine Zidane had opened the scoring before Raul bagged a brace. Gravesen, who replaced Zidane, completed the scoring in the 84th minute with a low shot. David Beckham, watched by Sven-Goran Eriksson, came off in the 67th minute with a shoulder injury but should be fit for England's game against Holland. England team-mate Michael Owen came on for Raul after 76 minutes with the game already won. Real have now won six consecutive Primera Liga games since coach Wanderley Luxemburgo took charge.\n"
     ]
    }
   ],
   "source": [
    "#Lets print a random article and associated category just to make sure...\n",
    "print articles.category[1432]\n",
    "print articles.article[1432]"
   ]
  },
  {
   "cell_type": "code",
   "execution_count": 10,
   "metadata": {},
   "outputs": [
    {
     "name": "stdout",
     "output_type": "stream",
     "text": [
      "<class 'pandas.core.frame.DataFrame'>\n",
      "RangeIndex: 2225 entries, 0 to 2224\n",
      "Data columns (total 2 columns):\n",
      "article     2225 non-null object\n",
      "category    2225 non-null object\n",
      "dtypes: object(2)\n",
      "memory usage: 34.8+ KB\n"
     ]
    }
   ],
   "source": [
    "articles.info()"
   ]
  },
  {
   "cell_type": "markdown",
   "metadata": {},
   "source": [
    "Finally, we can check to see the breakdown of the articles. This is important for a potential classification project, as balanced datasets provide the best chance of generating a good predictor. By balanced, we mean that there is a good split and enough observations between the classes (categories)."
   ]
  },
  {
   "cell_type": "code",
   "execution_count": 11,
   "metadata": {},
   "outputs": [
    {
     "data": {
      "text/plain": [
       "sport            511\n",
       "business         510\n",
       "politics         417\n",
       "tech             401\n",
       "entertainment    386\n",
       "Name: category, dtype: int64"
      ]
     },
     "execution_count": 11,
     "metadata": {},
     "output_type": "execute_result"
    }
   ],
   "source": [
    "articles.category.value_counts()"
   ]
  },
  {
   "cell_type": "code",
   "execution_count": 12,
   "metadata": {},
   "outputs": [
    {
     "data": {
      "image/png": "[encoded data removed]",
      "text/plain": [
       "<matplotlib.figure.Figure at 0x113eb41d0>"
      ]
     },
     "metadata": {},
     "output_type": "display_data"
    }
   ],
   "source": [
    "sns.countplot(x='category', data=articles)\n",
    " \n",
    "# Rotate x-labels\n",
    "plt.xticks(rotation=-45)\n",
    "plt.show()"
   ]
  },
  {
   "cell_type": "markdown",
   "metadata": {},
   "source": [
    "This looks like a good spread of article categories.\n",
    "\n",
    "### Data preparation\n",
    "\n",
    "In order to make the best NLP model possible that can be generalised to work with unseen data, we incorporate a train-test split. The ratio can be specified if desired but we will use the defaults here, being a 25% test set."
   ]
  },
  {
   "cell_type": "code",
   "execution_count": 13,
   "metadata": {
    "collapsed": true
   },
   "outputs": [],
   "source": [
    "# define X and y\n",
    "X = articles.article\n",
    "y = articles.category\n",
    "\n",
    "# split the new DataFrame into training and testing sets\n",
    "X_train, X_test, y_train, y_test = train_test_split(X, y, random_state=1)"
   ]
  },
  {
   "cell_type": "code",
   "execution_count": 14,
   "metadata": {},
   "outputs": [
    {
     "name": "stdout",
     "output_type": "stream",
     "text": [
      "1668\n",
      "557\n"
     ]
    }
   ],
   "source": [
    "print len(X_train)\n",
    "print len(X_test)"
   ]
  },
  {
   "cell_type": "markdown",
   "metadata": {},
   "source": [
    "### Data Transformation\n",
    "\n",
    "#### Count Vectorizer\n",
    "At its essence, a text document is unstructured data. We need a way to go from unstructured data to a numeric X matrix in order to use it with our models. One way to do this is to use a Count Vectorizer. This is a simple tool that creates features using each unique word in the corpi, counts all of the individual words in the document, and assigns this value count to the relevant column in the matrix.\n",
    "\n",
    "#### TF-IDF Vectorizer\n",
    "\n",
    "TF-IDF works in a similar way to the Count Vectorizer, but it aims to penalise words that are used frequently, and to raise the significance of words that are used rarely within documents but still may have importance on predicting the correct class.\n",
    "\n",
    "We will investigate both transformations in our modelling. some example code is shown below, to be able to also show some of the features that are created using the vectorizer."
   ]
  },
  {
   "cell_type": "code",
   "execution_count": 15,
   "metadata": {
    "collapsed": true
   },
   "outputs": [],
   "source": [
    "# use CountVectorizer to create document-term matrices from X_train and X_test\n",
    "vect = CountVectorizer()\n",
    "X_train_dtm = vect.fit_transform(X_train)\n",
    "X_test_dtm = vect.transform(X_test)"
   ]
  },
  {
   "cell_type": "code",
   "execution_count": 16,
   "metadata": {},
   "outputs": [
    {
     "data": {
      "text/plain": [
       "(1668, 26264)"
      ]
     },
     "execution_count": 16,
     "metadata": {},
     "output_type": "execute_result"
    }
   ],
   "source": [
    "# rows are documents, columns are terms (aka \"tokens\" or \"features\")\n",
    "X_train_dtm.shape"
   ]
  },
  {
   "cell_type": "code",
   "execution_count": 436,
   "metadata": {},
   "outputs": [
    {
     "name": "stdout",
     "output_type": "stream",
     "text": [
      "[u'bankrupt', u'bankruptcy', u'banks', u'banned', u'banner', u'banning', u'bannister', u'banos', u'banque', u'banques', u'banquet', u'bans', u'banter', u'banton', u'baoshan', u'bar', u'barbados', u'barbara', u'barbarians', u'barbaric']\n",
      "\n"
     ]
    }
   ],
   "source": [
    "# words occuring\n",
    "words = vect.get_feature_names()\n",
    "print words[3000:3020]\n",
    "print\n"
   ]
  },
  {
   "cell_type": "markdown",
   "metadata": {},
   "source": [
    "We still have the same number of rows but the vectorization has converted every word, or what is believed to be a word, from our test data into a feature. This is like dummy coded variables for words except that we have counts rather than just occurances."
   ]
  },
  {
   "cell_type": "markdown",
   "metadata": {},
   "source": [
    "### Machine Learning - Model Selection\n",
    "\n",
    "For this exercise, I have chosen to evaluate 3 different types of classification algorithms, Logistic Regression, Random Forest, and Naive Bayes. The reason for choosing these three is because they operate in fundamentally different ways to approach the same task.\n",
    "\n",
    "#### Logistic Regression\n",
    "Logistic regression is actually a classification algorithm rather than a regression technique like Linear Regression. The procedure aims to maximise the likelihood of the predicted probabilities give the correct class in a log-odds fashion. This model assumes that all features are required and independant from each other, as well as the associated error term. \n",
    "\n",
    "#### Naive Bayes\n",
    "Naive Bayes is a classifier that works on the basis of conditional probability, being that each feature is conditionally independent of every other feature being examined for that category.\n",
    "\n",
    "#### Random Forest\n",
    "Random Forest Classifier works using the principle of fitting multiple decision trees on samples of the dataset, which are then averaged to provide a generalised estimator that is not overfitted, which is a common problem with standard decision trees. "
   ]
  },
  {
   "cell_type": "markdown",
   "metadata": {},
   "source": [
    "#### Baseline Accuracy\n",
    "before building a model, it is important to assess the model relative to a baseline accuracy. For the purposes of multiclass classification algorithms, it is the sum of the majority class expressed as a percentage of all classes. As a reminder, here is a summary of the categories and their frequencies."
   ]
  },
  {
   "cell_type": "code",
   "execution_count": 17,
   "metadata": {},
   "outputs": [
    {
     "data": {
      "text/plain": [
       "sport            511\n",
       "business         510\n",
       "politics         417\n",
       "tech             401\n",
       "entertainment    386\n",
       "Name: category, dtype: int64"
      ]
     },
     "execution_count": 17,
     "metadata": {},
     "output_type": "execute_result"
    }
   ],
   "source": [
    "articles.category.value_counts()"
   ]
  },
  {
   "cell_type": "markdown",
   "metadata": {},
   "source": [
    "Sport has the largest number of documents, this becomes the baseline accuracy:"
   ]
  },
  {
   "cell_type": "code",
   "execution_count": 18,
   "metadata": {},
   "outputs": [
    {
     "data": {
      "text/plain": [
       "0.22966292134831462"
      ]
     },
     "execution_count": 18,
     "metadata": {},
     "output_type": "execute_result"
    }
   ],
   "source": [
    "511. / len(articles)"
   ]
  },
  {
   "cell_type": "markdown",
   "metadata": {},
   "source": [
    "#### Basic Modelling\n",
    "To test the performance with default parameters, I train a logistic regression model on the training set, then use this model to predict the category on the test set. "
   ]
  },
  {
   "cell_type": "code",
   "execution_count": 19,
   "metadata": {},
   "outputs": [
    {
     "name": "stdout",
     "output_type": "stream",
     "text": [
      "0.97486535009\n"
     ]
    }
   ],
   "source": [
    "# create instance of the model\n",
    "lr = LogisticRegression()\n",
    "#fit the model to the training set\n",
    "lr.fit(X_train_dtm, y_train)\n",
    "#predict the classes on the test set\n",
    "y_pred_class = lr.predict(X_test_dtm)\n",
    "\n",
    "# calculate accuracy by comparing the predicted classes against the true classes\n",
    "print metrics.accuracy_score(y_test, y_pred_class)"
   ]
  },
  {
   "cell_type": "markdown",
   "metadata": {},
   "source": [
    "As we can see, the model performs very well, as we have an accuracy score that is roughly 0.74 better than the baseline accuracy. However, there is a possiblity that there are other models that can perform better. \n",
    "\n",
    "#### Automated model asessment\n",
    "In order to speed up the process, below I write a function that takes a vectorizer and performs 3 different model fits, and calculates their relevant accuracies. This way, we can see demonstrate the importance of appropriate transformation of the data in relation to the performance of the respective models."
   ]
  },
  {
   "cell_type": "code",
   "execution_count": 20,
   "metadata": {
    "collapsed": true
   },
   "outputs": [],
   "source": [
    "\n",
    "def vect_test(vect):\n",
    "    # transform the unstructured data using the vectorizer\n",
    "    X_train_dtm = vect.fit_transform(X_train)\n",
    "    X_test_dtm = vect.transform(X_test)\n",
    "\n",
    "    # print the number of features generated as a result of the transformation\n",
    "    print 'Features: ', X_train_dtm.shape[1]\n",
    "\n",
    "    # train Logistic Regression model and measure accuracy\n",
    "    lr = LogisticRegression()\n",
    "    lr.fit(X_train_dtm, y_train)\n",
    "    y_pred_class_lr = lr.predict(X_test_dtm)\n",
    "    print 'Logistic Regression Accuracy: ', metrics.accuracy_score(y_test, y_pred_class_lr)\n",
    "\n",
    "    # train Naive Bayes model and measure accuracy\n",
    "    nb = MultinomialNB()\n",
    "    nb.fit(X_train_dtm, y_train)\n",
    "    y_pred_class_nb = nb.predict(X_test_dtm)\n",
    "    print 'Naive Bayes Accuracy: ', metrics.accuracy_score(y_test, y_pred_class_nb)\n",
    "    \n",
    "    # train Random Forest model and measure accuracy\n",
    "    rf = RandomForestClassifier()\n",
    "    rf.fit(X_train_dtm, y_train)\n",
    "    y_pred_class_rf = rf.predict(X_test_dtm)\n",
    "    print 'Random Forest Accuracy: ', metrics.accuracy_score(y_test, y_pred_class_rf)\n"
   ]
  },
  {
   "cell_type": "markdown",
   "metadata": {},
   "source": [
    "\n",
    "The vectorizers with default parameters are trained below on three types of model. It is noticed that all three models with default parameters perform better than the baseline, with Naive Bayes performing even better than Logistic Regression. It is also noted that TF-IDF improves the Random Forest accuracy a little, but reduces the Naive Bayes accuracy quite a bit."
   ]
  },
  {
   "cell_type": "code",
   "execution_count": 21,
   "metadata": {
    "scrolled": true
   },
   "outputs": [
    {
     "name": "stdout",
     "output_type": "stream",
     "text": [
      "Features:  26264\n",
      "Logistic Regression Accuracy:  0.97486535009\n",
      "Naive Bayes Accuracy:  0.978456014363\n",
      "Random Forest Accuracy:  0.849192100539\n"
     ]
    }
   ],
   "source": [
    "#standard Count Vectorizer\n",
    "vect = CountVectorizer()\n",
    "vect_test(vect)"
   ]
  },
  {
   "cell_type": "code",
   "execution_count": 22,
   "metadata": {
    "scrolled": true
   },
   "outputs": [
    {
     "name": "stdout",
     "output_type": "stream",
     "text": [
      "Features:  26264\n",
      "Logistic Regression Accuracy:  0.97486535009\n",
      "Naive Bayes Accuracy:  0.933572710952\n",
      "Random Forest Accuracy:  0.867145421903\n"
     ]
    }
   ],
   "source": [
    "#standard TF-IDF vectorizer\n",
    "vect = TfidfVectorizer()\n",
    "vect_test(vect)"
   ]
  },
  {
   "cell_type": "markdown",
   "metadata": {},
   "source": [
    "#### Stop words\n",
    "Removing stop words improves the accuracy across the board, for both vectorizers, but count vectorizer still performs better than TF-IDF. Note that Logistic Regression performs as well as Naive Bayes using the count vectorizer."
   ]
  },
  {
   "cell_type": "code",
   "execution_count": 23,
   "metadata": {},
   "outputs": [
    {
     "name": "stdout",
     "output_type": "stream",
     "text": [
      "Features:  25971\n",
      "Logistic Regression Accuracy:  0.980251346499\n",
      "Naive Bayes Accuracy:  0.980251346499\n",
      "Random Forest Accuracy:  0.899461400359\n"
     ]
    }
   ],
   "source": [
    "# remove English stop words\n",
    "vect = CountVectorizer(stop_words='english')\n",
    "vect_test(vect)"
   ]
  },
  {
   "cell_type": "code",
   "execution_count": 24,
   "metadata": {
    "scrolled": false
   },
   "outputs": [
    {
     "name": "stdout",
     "output_type": "stream",
     "text": [
      "Features:  25971\n",
      "Logistic Regression Accuracy:  0.980251346499\n",
      "Naive Bayes Accuracy:  0.96947935368\n",
      "Random Forest Accuracy:  0.917414721724\n"
     ]
    }
   ],
   "source": [
    "#standard TF-IDF vectorizer\n",
    "vect = TfidfVectorizer(stop_words='english')\n",
    "vect_test(vect)"
   ]
  },
  {
   "cell_type": "markdown",
   "metadata": {},
   "source": [
    "#### N-grams\n",
    "Including bigrams can potentially improve the accuracy of the model. For example, single words that might not seem related to a class can suddenly become so when associated with another word. For example, 'American' might not relate to a particular class, but 'American Football' could relate to the sport class. In this dataset however, this seems to have reduced the accuracy of our models."
   ]
  },
  {
   "cell_type": "code",
   "execution_count": 25,
   "metadata": {},
   "outputs": [
    {
     "name": "stdout",
     "output_type": "stream",
     "text": [
      "Features:  281098\n",
      "Logistic Regression Accuracy:  0.980251346499\n",
      "Naive Bayes Accuracy:  0.97486535009\n",
      "Random Forest Accuracy:  0.879712746858\n"
     ]
    }
   ],
   "source": [
    "# include 1-grams and 2-grams\n",
    "vect = CountVectorizer(stop_words='english', ngram_range=(1, 2))\n",
    "vect_test(vect)"
   ]
  },
  {
   "cell_type": "markdown",
   "metadata": {},
   "source": [
    "#### Low term frequency filtering\n",
    "Finally, we try to apply low term frequency as per the original processed dataset. Overall, it appears that it actually degrades the naive bayes model performance."
   ]
  },
  {
   "cell_type": "code",
   "execution_count": 26,
   "metadata": {},
   "outputs": [
    {
     "name": "stdout",
     "output_type": "stream",
     "text": [
      "Features:  11138\n",
      "Logistic Regression Accuracy:  0.980251346499\n",
      "Naive Bayes Accuracy:  0.976660682226\n",
      "Random Forest Accuracy:  0.910233393178\n"
     ]
    }
   ],
   "source": [
    "# remove stop words, and only include terms that appear at least 3 times\n",
    "vect = CountVectorizer(min_df=3, stop_words='english')\n",
    "vect_test(vect)"
   ]
  },
  {
   "cell_type": "markdown",
   "metadata": {},
   "source": [
    "### Gridsearch\n",
    "Now that we have our best data preparation, we now need to obtain the best hyperparameters for the best model. Naive Bayes typically does not have hyperparameters, but Logistic Regression does. We aim to see if we can improve the model by reducing unnecessary features using regularisation techniques and invoke 10 fold cross-validation to reduce overfitting. L1, also known as Lasso, is a technique that limits the the absolute size of the coefficients. It is also possible that some coefficients can become zero during this exercise, with features effectively eliminated. L2, also known as Ridge, adds a penalty equal to the square of the magnitude of the coefficients. As a result, all features are affected,  but not eliminated. It is possible to have a feature that is very small coefficent but will not be zero.\n",
    "\n",
    "The C value, is a float that indicates the amount of regularization used. A small number indicates strong regularisation, and a large number the inverse. Here I specify a range of 10^-4 to 10^4 to evaluate, which is a reasonably large range."
   ]
  },
  {
   "cell_type": "code",
   "execution_count": 27,
   "metadata": {},
   "outputs": [
    {
     "name": "stdout",
     "output_type": "stream",
     "text": [
      "Fitting 10 folds for each of 20 candidates, totalling 200 fits\n"
     ]
    },
    {
     "name": "stderr",
     "output_type": "stream",
     "text": [
      "[Parallel(n_jobs=-1)]: Done  52 tasks      | elapsed:    2.4s\n",
      "[Parallel(n_jobs=-1)]: Done 200 out of 200 | elapsed:   17.6s finished\n"
     ]
    },
    {
     "name": "stdout",
     "output_type": "stream",
     "text": [
      "LogisticRegression(C=0.046415888336127774, class_weight=None, dual=False,\n",
      "          fit_intercept=True, intercept_scaling=1, max_iter=100,\n",
      "          multi_class='ovr', n_jobs=1, penalty='l2', random_state=None,\n",
      "          solver='liblinear', tol=0.0001, verbose=0, warm_start=False)\n",
      "0.975419664269\n"
     ]
    }
   ],
   "source": [
    "#transform the data\n",
    "vect = CountVectorizer(stop_words='english')\n",
    "X_train_dtm = vect.fit_transform(X_train)\n",
    "X_test_dtm = vect.transform(X_test)\n",
    "\n",
    "#instansiate the model\n",
    "model = LogisticRegression() \n",
    "\n",
    "#provide parameters for the gridsearch\n",
    "params = {'penalty': ['l1','l2'],\n",
    "          'C': np.logspace(-4, 4, 10)}\n",
    "\n",
    "#perform gridsearch with 10 fold cross validation and print best estimator and score\n",
    "estimator = GridSearchCV(model,param_grid=params,cv=10, n_jobs=-1, verbose=1)\n",
    "estimator.fit(X_train_dtm,y_train)\n",
    "print estimator.best_estimator_\n",
    "print estimator.best_score_"
   ]
  },
  {
   "cell_type": "code",
   "execution_count": 28,
   "metadata": {},
   "outputs": [
    {
     "name": "stdout",
     "output_type": "stream",
     "text": [
      "0.982046678636\n"
     ]
    }
   ],
   "source": [
    "lrpredictions = estimator.best_estimator_.predict(X_test_dtm)\n",
    "print metrics.accuracy_score(y_test, lrpredictions)"
   ]
  },
  {
   "cell_type": "markdown",
   "metadata": {},
   "source": [
    "### Results\n",
    "As we can see from above, gridsearch adopted L2 (Ridge) as the better regularization technique, and the C value is small, which indicates that a large amount of regularization was used. The accuracy score on the training set was lower than our predicted accuracy score in the vectorizer evaluation, but we actually performed marginally better on the unseen test data. This shows that our model generalises well, and marginally outperforms the Naive Bayes Classifier."
   ]
  },
  {
   "cell_type": "markdown",
   "metadata": {},
   "source": [
    "It is important to note that although we have a good model, with a high accuracy score, it is important to evaluate how many documents the model actually classified correctly. For this, we use a confusion matrix to visualise this. The below function plots this matrix in a pretty way."
   ]
  },
  {
   "cell_type": "code",
   "execution_count": 29,
   "metadata": {
    "collapsed": true
   },
   "outputs": [],
   "source": [
    "def plot_confusion_matrix(cm, classes, title='Confusion matrix', cmap=plt.cm.Blues, xlab='Predicted magnitude',\\\n",
    "                         ylab='True magnitude'):\n",
    "    sns.set(font_scale=0.8)\n",
    "    plt.figure(figsize=(8,8))\n",
    "    plt.imshow(cm, interpolation='nearest', cmap=cmap)\n",
    "    plt.title(title)\n",
    "    plt.colorbar()\n",
    "    tick_marks = np.arange(len(classes))\n",
    "    plt.xticks(tick_marks, classes, rotation=45)\n",
    "    plt.yticks(tick_marks, classes)\n",
    "    thresh = cm.max() / 2.\n",
    "    for i, j in itertools.product(range(cm.shape[0]), range(cm.shape[1])):\n",
    "        plt.text(j, i, cm[i, j],\n",
    "                 horizontalalignment=\"center\",\n",
    "                 color=\"white\" if cm[i, j] > thresh else \"black\")\n",
    "    plt.ylabel(ylab)\n",
    "    plt.xlabel(xlab)\n",
    "    plt.show()"
   ]
  },
  {
   "cell_type": "markdown",
   "metadata": {},
   "source": [
    "As a reminder, we show the number of documents in our test set. We have 557 documents. The diagonal of the matrix shows those articles that have been predicted correctly. As we can see, we have prediced the classes of 547 articles out of the test set correctly, with just 10 articles mis-classified."
   ]
  },
  {
   "cell_type": "code",
   "execution_count": 30,
   "metadata": {},
   "outputs": [
    {
     "data": {
      "text/plain": [
       "557"
      ]
     },
     "execution_count": 30,
     "metadata": {},
     "output_type": "execute_result"
    }
   ],
   "source": [
    "len(y_test)"
   ]
  },
  {
   "cell_type": "code",
   "execution_count": 31,
   "metadata": {
    "collapsed": true
   },
   "outputs": [],
   "source": [
    "confmat = metrics.confusion_matrix(y_test,lrpredictions)"
   ]
  },
  {
   "cell_type": "code",
   "execution_count": 32,
   "metadata": {},
   "outputs": [
    {
     "data": {
      "image/png": "[encoded data removed]",
      "text/plain": [
       "<matplotlib.figure.Figure at 0x113f70450>"
      ]
     },
     "metadata": {},
     "output_type": "display_data"
    }
   ],
   "source": [
    "plot_confusion_matrix(confmat, estimator.best_estimator_.classes_,\n",
    "                      'Confusion matrix - Logistic Regression - Optimized hyperparameters',\n",
    "                      xlab='Predicted Article Category', ylab='True Article Category')\n",
    "plt.show()\n"
   ]
  },
  {
   "cell_type": "markdown",
   "metadata": {},
   "source": [
    "### Conclusion\n",
    "Through exploration of the dataset and various modelling techniques, I have demonstrated the importance of feature engineering in evaluating model performance and accuracy. The original pre-prepared dataset as provided on the website included stemming, stop word removal and low term frequency filtering. By ingesting the original documents and evaluating some of these procedures it is noted that low term frequency filtering did not improve the accuracy of our model, but stop word removal was significant. The type of vectorizer used to transform the unstructured text was also important in the ultimate model selection. Finally, optimizing our best model using gridsearch gave us a 98% accuracy in classifying news articles correctly using Logistic Regression.\n",
    "\n",
    "To extend this work, we could go further in the accuracy analysis by plotting the Precision-Recall and ROC curves for each of the classes. Furthermore, we could have explored the effects of stemming and lemmatization on the accuracy, as well as analysing sentences instead of individual words to gain a better understanding of the document as a whole."
   ]
  },
  {
   "cell_type": "code",
   "execution_count": null,
   "metadata": {
    "collapsed": true
   },
   "outputs": [],
   "source": []
  }
 ],
 "metadata": {
  "kernelspec": {
   "display_name": "Python 2",
   "language": "python",
   "name": "python2"
  },
  "language_info": {
   "codemirror_mode": {
    "name": "ipython",
    "version": 2
   },
   "file_extension": ".py",
   "mimetype": "text/x-python",
   "name": "python",
   "nbconvert_exporter": "python",
   "pygments_lexer": "ipython2",
   "version": "2.7.13"
  }
 },
 "nbformat": 4,
 "nbformat_minor": 2
}
